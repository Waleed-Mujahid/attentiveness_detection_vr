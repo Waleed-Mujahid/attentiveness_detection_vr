{
 "cells": [
  {
   "cell_type": "markdown",
   "metadata": {},
   "source": [
    "## Importing libraries"
   ]
  },
  {
   "cell_type": "code",
   "execution_count": null,
   "metadata": {},
   "outputs": [],
   "source": [
    "import pandas as pd\n",
    "import numpy as np\n",
    "from scipy.stats import mode\n",
    "import seaborn as sns\n",
    "import matplotlib.pyplot as plt\n",
    "from sklearn.metrics import accuracy_score, classification_report, confusion_matrix\n",
    "from sklearn.model_selection import train_test_split\n",
    "import tensorflow as tf\n",
    "from tensorflow import keras\n",
    "from sklearn.preprocessing import StandardScaler\n",
    "from keras.models import Sequential\n",
    "from keras.layers import Dense, Dropout\n",
    "from sklearn.svm import SVC\n",
    "from sklearn.metrics import f1_score\n",
    "from keras.utils import timeseries_dataset_from_array\n",
    "import os"
   ]
  },
  {
   "cell_type": "markdown",
   "metadata": {},
   "source": [
    "## Data pre-processing"
   ]
  },
  {
   "cell_type": "code",
   "execution_count": null,
   "metadata": {},
   "outputs": [],
   "source": [
    "def func(timePath, responsePath, timeStamps):\n",
    "    time_df = pd.read_csv(timePath)\n",
    "    time_df['attentive'] = 1\n",
    "    old = 0\n",
    "    resp_df = pd.read_csv(responsePath)\n",
    "    for index, row in resp_df.iterrows():\n",
    "        if(row[' Correct'] == ' Yes'):\n",
    "            old = row['Elapsed Time (ms)']\n",
    "            continue\n",
    "        new = row['Elapsed Time (ms)']\n",
    "        time_df.loc[(time_df['Elapsed Time (ms)'] >= old) & (time_df['Elapsed Time (ms)'] <= new), 'attentive'] = 0\n",
    "    \n",
    "    # Update time_df and remove old ' Pitch' and ' Roll' columns\n",
    "    # time_df[' Pitch'] = round(((time_df[' Pitch'] + 180) % 360), 2)\n",
    "    # time_df[' Roll'] = round(((time_df[' Roll'] + 180) % 360), 2)\n",
    "    # # time_df[' Yaw'] = round(((time_df[' Yaw'] + 180) % 360), 2)\n",
    "    \n",
    "    time_df = time_df.drop(['Elapsed Time (ms)', ' Alphabet'], axis=1)\n",
    "    dataset = timeseries_dataset_from_array(np.asarray(time_df.drop(['attentive'], axis = 1))[: -timeStamps], np.asarray(time_df['attentive'])[timeStamps:], 10, batch_size=71000)\n",
    "    for index, batch in enumerate(dataset):\n",
    "        features, labels = batch\n",
    "        \n",
    "       \n",
    "    return features, labels\n",
    "    \n",
    "    \n",
    "features_arr, labels_arr = func('../data/timeFile_1.csv', '../data/responseFile_1.csv', 10)\n"
   ]
  },
  {
   "cell_type": "code",
   "execution_count": null,
   "metadata": {},
   "outputs": [],
   "source": [
    "# List of response and time file paths\n",
    "response_files = ['responseFile_1.csv', 'responseFile_3.csv', 'responseFile_4.csv', 'responseFile_5.csv', 'responseFile_6.csv', 'responseFile_7.csv']\n",
    "time_files = ['timeFile_1.csv', 'timeFile_3.csv', 'timeFile_4.csv', 'timeFile_5.csv', 'timeFile_6.csv', 'timeFile_7.csv']\n",
    "\n",
    "# Process each file and stack the datasets\n",
    "stacked_features, stacked_labels = None, None\n",
    "for time_file, response_file in zip(time_files, response_files):\n",
    "    dataset = func('../data/' + time_file, '../data/' + response_file, 10)\n",
    "    if stacked_features is None:\n",
    "        stacked_features, stacked_labels = dataset\n",
    "    else:\n",
    "        stacked_features = np.concatenate([stacked_features, dataset[0]], axis=0)\n",
    "        stacked_labels = np.concatenate([stacked_labels, dataset[1]], axis=0)\n",
    "\n",
    "# Print the shapes of the stacked datasets\n",
    "print(\"Stacked Features Shape:\", stacked_features.shape)\n",
    "print(\"Stacked Labels Shape:\", stacked_labels.shape)"
   ]
  },
  {
   "cell_type": "code",
   "execution_count": null,
   "metadata": {},
   "outputs": [],
   "source": [
    "# Assuming stacked_features is already defined and available.\n",
    "# stacked_features.shape[2] should represent the number of features in each input sequence.\n",
    "\n",
    "# Define the input layer with the shape (10, number of features)\n",
    "input_layer = tf.keras.layers.Input(shape=(10, stacked_features.shape[2]))\n",
    "\n",
    "# Define a stack of LSTM layers in a sequential fashion\n",
    "lstm_layer1 = tf.keras.layers.LSTM(32, return_sequences=True, activation='tanh', recurrent_dropout=0.2, dropout=0)(input_layer)\n",
    "lstm_layer2 = tf.keras.layers.LSTM(32, activation='tanh', recurrent_dropout=0.2, dropout=0)(lstm_layer1)\n",
    "\n",
    "# Define the output layer\n",
    "hidden_layer = tf.keras.layers.Dense(32, activation='relu')(lstm_layer2)\n",
    "droput_layer = tf.keras.layers.Dropout(0.35)(hidden_layer)\n",
    "hidden_layer2 = tf.keras.layers.Dense(32, activation='relu')(droput_layer)\n",
    "droput_layer2 = tf.keras.layers.Dropout(0.1)(hidden_layer2)\n",
    "output_layer = tf.keras.layers.Dense(1, activation='sigmoid')(droput_layer2)\n",
    "\n",
    "# Create the sequential model\n",
    "sequential_model = tf.keras.models.Model(inputs=input_layer, outputs=output_layer)\n",
    "\n",
    "sequential_model.summary()"
   ]
  },
  {
   "cell_type": "code",
   "execution_count": null,
   "metadata": {},
   "outputs": [],
   "source": [
    "# Compile the model\n",
    "sequential_model.compile(\n",
    "    optimizer=tf.keras.optimizers.Adam(learning_rate=0.0001),\n",
    "    loss=tf.keras.losses.binary_crossentropy,\n",
    "    metrics=['accuracy']\n",
    ")\n",
    "\n",
    "\n",
    "train_features = stacked_features[:100000, :, :]\n",
    "train_labels = stacked_labels[:100000]\n",
    "test_features = stacked_features[100000:, :, :]\n",
    "test_labels = stacked_labels[100000:]\n",
    "\n",
    "sc = StandardScaler()\n",
    "train_features = sc.fit_transform(stacked_features)\n",
    "test_features = sc.transform(test_features)\n",
    "\n",
    "base_history = sequential_model.fit(train_features, train_labels, batch_size=32, epochs=100,\n",
    "                                    verbose=1, validation_data=(test_features, test_labels), class_weight={0: 1, 1: 10})"
   ]
  },
  {
   "cell_type": "code",
   "execution_count": null,
   "metadata": {},
   "outputs": [],
   "source": [
    "# Plot accuracy and loss\n",
    "fig, ax = plt.subplots(2, 1, figsize=(10,10))\n",
    "ax[0].plot(base_history.history['accuracy'], label='Train Accuracy')\n",
    "ax[0].plot(base_history.history['val_accuracy'], label='Validation Accuracy')\n",
    "ax[0].legend()\n",
    "ax[0].set_title('Accuracy')\n",
    "\n",
    "ax[1].plot(base_history.history['loss'], label='Train Loss')\n",
    "ax[1].plot(base_history.history['val_loss'], label='Validation Loss')\n",
    "ax[1].legend()\n",
    "ax[1].set_title('Loss')\n",
    "\n",
    "plt.tight_layout()\n",
    "plt.show()"
   ]
  },
  {
   "cell_type": "code",
   "execution_count": null,
   "metadata": {},
   "outputs": [],
   "source": [
    "plt.plot(test_labels, label='Actual')\n",
    "plt.plot(sequential_model.predict(test_features), label='Predicted')\n",
    "plt.legend()\n",
    "plt.show()"
   ]
  },
  {
   "cell_type": "code",
   "execution_count": null,
   "metadata": {},
   "outputs": [],
   "source": [
    "plt.plot(train_labels, label='Actual')\n",
    "plt.plot(sequential_model.predict(train_features), label='Predicted')\n",
    "plt.legend()\n",
    "plt.show()"
   ]
  },
  {
   "cell_type": "code",
   "execution_count": null,
   "metadata": {},
   "outputs": [],
   "source": [
    "sequential_model.save('stacked_model.h5')"
   ]
  }
 ],
 "metadata": {
  "kernelspec": {
   "display_name": "Python 3",
   "language": "python",
   "name": "python3"
  },
  "language_info": {
   "codemirror_mode": {
    "name": "ipython",
    "version": 3
   },
   "file_extension": ".py",
   "mimetype": "text/x-python",
   "name": "python",
   "nbconvert_exporter": "python",
   "pygments_lexer": "ipython3",
   "version": "3.11.0"
  }
 },
 "nbformat": 4,
 "nbformat_minor": 2
}
